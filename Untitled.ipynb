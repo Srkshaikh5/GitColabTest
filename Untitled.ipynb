{
  "nbformat": 4,
  "nbformat_minor": 0,
  "metadata": {
    "kernelspec": {
      "display_name": "Python 3",
      "language": "python",
      "name": "python3"
    },
    "language_info": {
      "codemirror_mode": {
        "name": "ipython",
        "version": 3
      },
      "file_extension": ".py",
      "mimetype": "text/x-python",
      "name": "python",
      "nbconvert_exporter": "python",
      "pygments_lexer": "ipython3",
      "version": "3.7.1"
    },
    "colab": {
      "name": "Untitled.ipynb",
      "provenance": [],
      "include_colab_link": true
    }
  },
  "cells": [
    {
      "cell_type": "markdown",
      "metadata": {
        "id": "view-in-github",
        "colab_type": "text"
      },
      "source": [
        "<a href=\"https://colab.research.google.com/github/Srkshaikh5/GitColabTest/blob/main/Untitled.ipynb\" target=\"_parent\"><img src=\"https://colab.research.google.com/assets/colab-badge.svg\" alt=\"Open In Colab\"/></a>"
      ]
    },
    {
      "cell_type": "code",
      "metadata": {
        "id": "HQi7hMKSaUAr"
      },
      "source": [
        "import pandas as pd\n",
        "train = pd.DataFrame({'id':[1,2,4],'features':[['A','B','C'],['A','D','E'],['C','D','F']]})\n",
        "train['features_t'] = train['features'].apply(lambda x: \"\".join([\"_\".join(i.split(\" \")) for i in x]))"
      ],
      "execution_count": null,
      "outputs": []
    },
    {
      "cell_type": "code",
      "metadata": {
        "id": "X9erkKz6aUA3",
        "outputId": "faec0af9-fbfa-4233-9c26-6940edf2edd5"
      },
      "source": [
        "train['features_t']\n"
      ],
      "execution_count": null,
      "outputs": [
        {
          "output_type": "execute_result",
          "data": {
            "text/plain": [
              "0    ABC\n",
              "1    ADE\n",
              "2    CDF\n",
              "Name: features_t, dtype: object"
            ]
          },
          "metadata": {
            "tags": []
          },
          "execution_count": 2
        }
      ]
    },
    {
      "cell_type": "code",
      "metadata": {
        "id": "Zx05mZx0aUA5"
      },
      "source": [
        "x = True\n",
        "y = False\n",
        "z = False"
      ],
      "execution_count": null,
      "outputs": []
    },
    {
      "cell_type": "code",
      "metadata": {
        "id": "Yr_tnRmUaUA6",
        "outputId": "a4d6087d-2911-4f14-b09c-163176f3ced7"
      },
      "source": [
        "if x or y and z:\n",
        "    print('yes')\n",
        "else:\n",
        "    print('no')"
      ],
      "execution_count": null,
      "outputs": [
        {
          "output_type": "stream",
          "text": [
            "yes\n"
          ],
          "name": "stdout"
        }
      ]
    },
    {
      "cell_type": "code",
      "metadata": {
        "id": "SwDYAE3PaUA6",
        "outputId": "b5e228a6-7040-4308-98ae-66e121f9559c"
      },
      "source": [
        "word = 'aeioubcdfg'\n",
        "print(word[:3]+word[3:])"
      ],
      "execution_count": null,
      "outputs": [
        {
          "output_type": "stream",
          "text": [
            "aeioubcdfg\n"
          ],
          "name": "stdout"
        }
      ]
    },
    {
      "cell_type": "code",
      "metadata": {
        "id": "4HjhuJXoaUA7"
      },
      "source": [
        "def funA(a,b):\n",
        "    print(a+ int(b))"
      ],
      "execution_count": null,
      "outputs": []
    },
    {
      "cell_type": "code",
      "metadata": {
        "id": "Z5SKfI8baUA7",
        "outputId": "54db83b0-65fe-46f6-ca32-ed5bd10fca5a"
      },
      "source": [
        "funA(3,4.-0)"
      ],
      "execution_count": null,
      "outputs": [
        {
          "output_type": "stream",
          "text": [
            "7\n"
          ],
          "name": "stdout"
        }
      ]
    },
    {
      "cell_type": "code",
      "metadata": {
        "id": "0kGebFxGaUA8"
      },
      "source": [
        "D = ['A','B','C','D','E','AA','AB']\n",
        "from sklearn.preprocessing import LabelEncoder"
      ],
      "execution_count": null,
      "outputs": []
    },
    {
      "cell_type": "code",
      "metadata": {
        "id": "iKs3b4ZFaUA8",
        "outputId": "4e887890-edc5-47b5-d440-6e50b1202a5c"
      },
      "source": [
        "le = LabelEncoder()\n",
        "le.fit_transform(D)"
      ],
      "execution_count": null,
      "outputs": [
        {
          "output_type": "execute_result",
          "data": {
            "text/plain": [
              "array([0, 3, 4, 5, 6, 1, 2], dtype=int64)"
            ]
          },
          "metadata": {
            "tags": []
          },
          "execution_count": 22
        }
      ]
    },
    {
      "cell_type": "code",
      "metadata": {
        "id": "F1ZJBqSiaUA8"
      },
      "source": [
        "import numpy as np"
      ],
      "execution_count": null,
      "outputs": []
    },
    {
      "cell_type": "code",
      "metadata": {
        "id": "w9PxevtTaUA9",
        "outputId": "7581fcc3-3fe1-4a94-bf84-5beefe3b4d5a"
      },
      "source": [
        "np.std([4,10,7,7,24,9,3,8,9])"
      ],
      "execution_count": null,
      "outputs": [
        {
          "output_type": "execute_result",
          "data": {
            "text/plain": [
              "5.734883511361751"
            ]
          },
          "metadata": {
            "tags": []
          },
          "execution_count": 28
        }
      ]
    },
    {
      "cell_type": "code",
      "metadata": {
        "id": "PAApA6uRaUA-",
        "outputId": "165fbb77-2b3a-4e02-f791-fe3f17c69e94"
      },
      "source": [
        "def funA(x):\n",
        "    return str(x)\n",
        "\n",
        "def funB(y):\n",
        "    return str(2*y)\n",
        "\n",
        "x= funA(1) + funB(2)\n",
        "x"
      ],
      "execution_count": null,
      "outputs": [
        {
          "output_type": "execute_result",
          "data": {
            "text/plain": [
              "'14'"
            ]
          },
          "metadata": {
            "tags": []
          },
          "execution_count": 30
        }
      ]
    },
    {
      "cell_type": "code",
      "metadata": {
        "id": "-_R9AuKPaUBA"
      },
      "source": [
        "def a(b,c,d):pass"
      ],
      "execution_count": null,
      "outputs": []
    },
    {
      "cell_type": "code",
      "metadata": {
        "id": "7qjlzVGWaUBA"
      },
      "source": [
        "a(1,3,4)"
      ],
      "execution_count": null,
      "outputs": []
    },
    {
      "cell_type": "code",
      "metadata": {
        "id": "xTchldFlaUBB"
      },
      "source": [
        "Id = [1,1,2,2]\n",
        "p = ['aaa','bbb','aaa','bbb'] \n",
        "s = [50,45,52,np.nan]"
      ],
      "execution_count": null,
      "outputs": []
    },
    {
      "cell_type": "code",
      "metadata": {
        "id": "jrfpmWpaaUBB"
      },
      "source": [
        "df = pd.DataFrame(list(zip(p,s)),columns = ['product','sales'])"
      ],
      "execution_count": null,
      "outputs": []
    },
    {
      "cell_type": "code",
      "metadata": {
        "id": "-cRPvUfUaUBB",
        "outputId": "e2cd153e-9df2-47af-e737-f013075f63ce"
      },
      "source": [
        "df"
      ],
      "execution_count": null,
      "outputs": [
        {
          "output_type": "execute_result",
          "data": {
            "text/html": [
              "<div>\n",
              "<style scoped>\n",
              "    .dataframe tbody tr th:only-of-type {\n",
              "        vertical-align: middle;\n",
              "    }\n",
              "\n",
              "    .dataframe tbody tr th {\n",
              "        vertical-align: top;\n",
              "    }\n",
              "\n",
              "    .dataframe thead th {\n",
              "        text-align: right;\n",
              "    }\n",
              "</style>\n",
              "<table border=\"1\" class=\"dataframe\">\n",
              "  <thead>\n",
              "    <tr style=\"text-align: right;\">\n",
              "      <th></th>\n",
              "      <th>product</th>\n",
              "      <th>sales</th>\n",
              "    </tr>\n",
              "  </thead>\n",
              "  <tbody>\n",
              "    <tr>\n",
              "      <th>0</th>\n",
              "      <td>aaa</td>\n",
              "      <td>50.0</td>\n",
              "    </tr>\n",
              "    <tr>\n",
              "      <th>1</th>\n",
              "      <td>bbb</td>\n",
              "      <td>45.0</td>\n",
              "    </tr>\n",
              "    <tr>\n",
              "      <th>2</th>\n",
              "      <td>aaa</td>\n",
              "      <td>52.0</td>\n",
              "    </tr>\n",
              "    <tr>\n",
              "      <th>3</th>\n",
              "      <td>bbb</td>\n",
              "      <td>49.0</td>\n",
              "    </tr>\n",
              "  </tbody>\n",
              "</table>\n",
              "</div>"
            ],
            "text/plain": [
              "  product  sales\n",
              "0     aaa   50.0\n",
              "1     bbb   45.0\n",
              "2     aaa   52.0\n",
              "3     bbb   49.0"
            ]
          },
          "metadata": {
            "tags": []
          },
          "execution_count": 98
        }
      ]
    },
    {
      "cell_type": "code",
      "metadata": {
        "id": "ilpx1JOeaUBC",
        "outputId": "ff16f414-034a-4463-f1b1-273f00a1b41c"
      },
      "source": [
        "set_index('product')['sales'].to_dict()"
      ],
      "execution_count": null,
      "outputs": [
        {
          "output_type": "error",
          "ename": "NameError",
          "evalue": "name 'set_index' is not defined",
          "traceback": [
            "\u001b[1;31m---------------------------------------------------------------------------\u001b[0m",
            "\u001b[1;31mNameError\u001b[0m                                 Traceback (most recent call last)",
            "\u001b[1;32m<ipython-input-90-fe92487f1b1b>\u001b[0m in \u001b[0;36m<module>\u001b[1;34m\u001b[0m\n\u001b[1;32m----> 1\u001b[1;33m \u001b[0mset_index\u001b[0m\u001b[1;33m(\u001b[0m\u001b[1;34m'product'\u001b[0m\u001b[1;33m)\u001b[0m\u001b[1;33m[\u001b[0m\u001b[1;34m'sales'\u001b[0m\u001b[1;33m]\u001b[0m\u001b[1;33m.\u001b[0m\u001b[0mto_dict\u001b[0m\u001b[1;33m(\u001b[0m\u001b[1;33m)\u001b[0m\u001b[1;33m\u001b[0m\u001b[1;33m\u001b[0m\u001b[0m\n\u001b[0m",
            "\u001b[1;31mNameError\u001b[0m: name 'set_index' is not defined"
          ]
        }
      ]
    },
    {
      "cell_type": "code",
      "metadata": {
        "id": "rggZxtr_aUBC",
        "outputId": "19876202-9e95-4791-9f1d-b1293770585f"
      },
      "source": [
        "np.eye(3)"
      ],
      "execution_count": null,
      "outputs": [
        {
          "output_type": "execute_result",
          "data": {
            "text/plain": [
              "array([[1., 0., 0.],\n",
              "       [0., 1., 0.],\n",
              "       [0., 0., 1.]])"
            ]
          },
          "metadata": {
            "tags": []
          },
          "execution_count": 91
        }
      ]
    },
    {
      "cell_type": "code",
      "metadata": {
        "id": "fY2RzM59aUBC"
      },
      "source": [
        "df['sales'] = df['sales'].fillna(df['sales'].mean())\n"
      ],
      "execution_count": null,
      "outputs": []
    },
    {
      "cell_type": "code",
      "metadata": {
        "id": "GGXg5nrgaUBD"
      },
      "source": [
        "a = [1,2,3]\n",
        "b = [5,6,7]"
      ],
      "execution_count": null,
      "outputs": []
    },
    {
      "cell_type": "code",
      "metadata": {
        "id": "TaP0myCeaUBD"
      },
      "source": [
        "a.extend(b)"
      ],
      "execution_count": null,
      "outputs": []
    },
    {
      "cell_type": "code",
      "metadata": {
        "id": "QDe9MoLCaUBD",
        "outputId": "2ab664a9-a20c-4daa-d37e-5379e23fbc67"
      },
      "source": [
        "a"
      ],
      "execution_count": null,
      "outputs": [
        {
          "output_type": "execute_result",
          "data": {
            "text/plain": [
              "[1, 2, 3, 5, 6, 7]"
            ]
          },
          "metadata": {
            "tags": []
          },
          "execution_count": 101
        }
      ]
    },
    {
      "cell_type": "code",
      "metadata": {
        "id": "wTTQXB6IaUBE",
        "outputId": "a05a3d08-94e6-4529-d12a-611960cf1c09"
      },
      "source": [
        "for i in range(1,6,1):\n",
        "    print (str(i)*5)"
      ],
      "execution_count": null,
      "outputs": [
        {
          "output_type": "stream",
          "text": [
            "11111\n",
            "22222\n",
            "33333\n",
            "44444\n",
            "55555\n"
          ],
          "name": "stdout"
        }
      ]
    },
    {
      "cell_type": "code",
      "metadata": {
        "id": "NBbDfoGiaUBE",
        "outputId": "620899db-383b-41c5-9977-830262ec7eb5"
      },
      "source": [
        "def 1a():\n",
        "    print(1)"
      ],
      "execution_count": null,
      "outputs": [
        {
          "output_type": "error",
          "ename": "SyntaxError",
          "evalue": "invalid syntax (<ipython-input-105-8266c23963b9>, line 1)",
          "traceback": [
            "\u001b[1;36m  File \u001b[1;32m\"<ipython-input-105-8266c23963b9>\"\u001b[1;36m, line \u001b[1;32m1\u001b[0m\n\u001b[1;33m    def 1a():\u001b[0m\n\u001b[1;37m        ^\u001b[0m\n\u001b[1;31mSyntaxError\u001b[0m\u001b[1;31m:\u001b[0m invalid syntax\n"
          ]
        }
      ]
    },
    {
      "cell_type": "code",
      "metadata": {
        "id": "elQ_Tcw0aUBF",
        "outputId": "fcf5ec60-4f6d-4872-ef8a-98fef6670352"
      },
      "source": [
        "pd.DataFrame(np.random.random([10,10]))"
      ],
      "execution_count": null,
      "outputs": [
        {
          "output_type": "execute_result",
          "data": {
            "text/html": [
              "<div>\n",
              "<style scoped>\n",
              "    .dataframe tbody tr th:only-of-type {\n",
              "        vertical-align: middle;\n",
              "    }\n",
              "\n",
              "    .dataframe tbody tr th {\n",
              "        vertical-align: top;\n",
              "    }\n",
              "\n",
              "    .dataframe thead th {\n",
              "        text-align: right;\n",
              "    }\n",
              "</style>\n",
              "<table border=\"1\" class=\"dataframe\">\n",
              "  <thead>\n",
              "    <tr style=\"text-align: right;\">\n",
              "      <th></th>\n",
              "      <th>0</th>\n",
              "      <th>1</th>\n",
              "      <th>2</th>\n",
              "      <th>3</th>\n",
              "      <th>4</th>\n",
              "      <th>5</th>\n",
              "      <th>6</th>\n",
              "      <th>7</th>\n",
              "      <th>8</th>\n",
              "      <th>9</th>\n",
              "    </tr>\n",
              "  </thead>\n",
              "  <tbody>\n",
              "    <tr>\n",
              "      <th>0</th>\n",
              "      <td>0.877106</td>\n",
              "      <td>0.343488</td>\n",
              "      <td>0.214255</td>\n",
              "      <td>0.866663</td>\n",
              "      <td>0.071315</td>\n",
              "      <td>0.943872</td>\n",
              "      <td>0.382957</td>\n",
              "      <td>0.551192</td>\n",
              "      <td>0.757262</td>\n",
              "      <td>0.662177</td>\n",
              "    </tr>\n",
              "    <tr>\n",
              "      <th>1</th>\n",
              "      <td>0.450772</td>\n",
              "      <td>0.513268</td>\n",
              "      <td>0.015293</td>\n",
              "      <td>0.804203</td>\n",
              "      <td>0.102338</td>\n",
              "      <td>0.655093</td>\n",
              "      <td>0.873105</td>\n",
              "      <td>0.533230</td>\n",
              "      <td>0.953058</td>\n",
              "      <td>0.969179</td>\n",
              "    </tr>\n",
              "    <tr>\n",
              "      <th>2</th>\n",
              "      <td>0.998935</td>\n",
              "      <td>0.468600</td>\n",
              "      <td>0.241881</td>\n",
              "      <td>0.275220</td>\n",
              "      <td>0.726631</td>\n",
              "      <td>0.070369</td>\n",
              "      <td>0.692041</td>\n",
              "      <td>0.939624</td>\n",
              "      <td>0.095106</td>\n",
              "      <td>0.175388</td>\n",
              "    </tr>\n",
              "    <tr>\n",
              "      <th>3</th>\n",
              "      <td>0.637293</td>\n",
              "      <td>0.613753</td>\n",
              "      <td>0.791003</td>\n",
              "      <td>0.577677</td>\n",
              "      <td>0.521792</td>\n",
              "      <td>0.281651</td>\n",
              "      <td>0.173327</td>\n",
              "      <td>0.603090</td>\n",
              "      <td>0.351271</td>\n",
              "      <td>0.842397</td>\n",
              "    </tr>\n",
              "    <tr>\n",
              "      <th>4</th>\n",
              "      <td>0.560052</td>\n",
              "      <td>0.107881</td>\n",
              "      <td>0.892444</td>\n",
              "      <td>0.032325</td>\n",
              "      <td>0.234670</td>\n",
              "      <td>0.798614</td>\n",
              "      <td>0.893704</td>\n",
              "      <td>0.188856</td>\n",
              "      <td>0.523309</td>\n",
              "      <td>0.010091</td>\n",
              "    </tr>\n",
              "    <tr>\n",
              "      <th>5</th>\n",
              "      <td>0.687508</td>\n",
              "      <td>0.943705</td>\n",
              "      <td>0.907620</td>\n",
              "      <td>0.737424</td>\n",
              "      <td>0.224037</td>\n",
              "      <td>0.594292</td>\n",
              "      <td>0.930232</td>\n",
              "      <td>0.180746</td>\n",
              "      <td>0.683993</td>\n",
              "      <td>0.531478</td>\n",
              "    </tr>\n",
              "    <tr>\n",
              "      <th>6</th>\n",
              "      <td>0.285336</td>\n",
              "      <td>0.549137</td>\n",
              "      <td>0.474185</td>\n",
              "      <td>0.724242</td>\n",
              "      <td>0.497876</td>\n",
              "      <td>0.555322</td>\n",
              "      <td>0.199581</td>\n",
              "      <td>0.958925</td>\n",
              "      <td>0.608912</td>\n",
              "      <td>0.803904</td>\n",
              "    </tr>\n",
              "    <tr>\n",
              "      <th>7</th>\n",
              "      <td>0.797211</td>\n",
              "      <td>0.331517</td>\n",
              "      <td>0.472140</td>\n",
              "      <td>0.790787</td>\n",
              "      <td>0.128842</td>\n",
              "      <td>0.480532</td>\n",
              "      <td>0.041083</td>\n",
              "      <td>0.798814</td>\n",
              "      <td>0.264014</td>\n",
              "      <td>0.609550</td>\n",
              "    </tr>\n",
              "    <tr>\n",
              "      <th>8</th>\n",
              "      <td>0.055535</td>\n",
              "      <td>0.001514</td>\n",
              "      <td>0.765011</td>\n",
              "      <td>0.683870</td>\n",
              "      <td>0.290956</td>\n",
              "      <td>0.533948</td>\n",
              "      <td>0.469963</td>\n",
              "      <td>0.146358</td>\n",
              "      <td>0.214448</td>\n",
              "      <td>0.576524</td>\n",
              "    </tr>\n",
              "    <tr>\n",
              "      <th>9</th>\n",
              "      <td>0.074832</td>\n",
              "      <td>0.950779</td>\n",
              "      <td>0.491064</td>\n",
              "      <td>0.713312</td>\n",
              "      <td>0.599111</td>\n",
              "      <td>0.696257</td>\n",
              "      <td>0.632269</td>\n",
              "      <td>0.943591</td>\n",
              "      <td>0.212515</td>\n",
              "      <td>0.288920</td>\n",
              "    </tr>\n",
              "  </tbody>\n",
              "</table>\n",
              "</div>"
            ],
            "text/plain": [
              "          0         1         2         3         4         5         6  \\\n",
              "0  0.877106  0.343488  0.214255  0.866663  0.071315  0.943872  0.382957   \n",
              "1  0.450772  0.513268  0.015293  0.804203  0.102338  0.655093  0.873105   \n",
              "2  0.998935  0.468600  0.241881  0.275220  0.726631  0.070369  0.692041   \n",
              "3  0.637293  0.613753  0.791003  0.577677  0.521792  0.281651  0.173327   \n",
              "4  0.560052  0.107881  0.892444  0.032325  0.234670  0.798614  0.893704   \n",
              "5  0.687508  0.943705  0.907620  0.737424  0.224037  0.594292  0.930232   \n",
              "6  0.285336  0.549137  0.474185  0.724242  0.497876  0.555322  0.199581   \n",
              "7  0.797211  0.331517  0.472140  0.790787  0.128842  0.480532  0.041083   \n",
              "8  0.055535  0.001514  0.765011  0.683870  0.290956  0.533948  0.469963   \n",
              "9  0.074832  0.950779  0.491064  0.713312  0.599111  0.696257  0.632269   \n",
              "\n",
              "          7         8         9  \n",
              "0  0.551192  0.757262  0.662177  \n",
              "1  0.533230  0.953058  0.969179  \n",
              "2  0.939624  0.095106  0.175388  \n",
              "3  0.603090  0.351271  0.842397  \n",
              "4  0.188856  0.523309  0.010091  \n",
              "5  0.180746  0.683993  0.531478  \n",
              "6  0.958925  0.608912  0.803904  \n",
              "7  0.798814  0.264014  0.609550  \n",
              "8  0.146358  0.214448  0.576524  \n",
              "9  0.943591  0.212515  0.288920  "
            ]
          },
          "metadata": {
            "tags": []
          },
          "execution_count": 112
        }
      ]
    },
    {
      "cell_type": "code",
      "metadata": {
        "id": "xYcuMM-5aUBF",
        "outputId": "2d45985a-d2e6-420c-9586-2783171a6c8b"
      },
      "source": [
        "pd.DataFrame(np.random.random([10,10])).multiply(pd.DataFrame(np.random.random([10,])))"
      ],
      "execution_count": null,
      "outputs": [
        {
          "output_type": "execute_result",
          "data": {
            "text/html": [
              "<div>\n",
              "<style scoped>\n",
              "    .dataframe tbody tr th:only-of-type {\n",
              "        vertical-align: middle;\n",
              "    }\n",
              "\n",
              "    .dataframe tbody tr th {\n",
              "        vertical-align: top;\n",
              "    }\n",
              "\n",
              "    .dataframe thead th {\n",
              "        text-align: right;\n",
              "    }\n",
              "</style>\n",
              "<table border=\"1\" class=\"dataframe\">\n",
              "  <thead>\n",
              "    <tr style=\"text-align: right;\">\n",
              "      <th></th>\n",
              "      <th>0</th>\n",
              "      <th>1</th>\n",
              "      <th>2</th>\n",
              "      <th>3</th>\n",
              "      <th>4</th>\n",
              "      <th>5</th>\n",
              "      <th>6</th>\n",
              "      <th>7</th>\n",
              "      <th>8</th>\n",
              "      <th>9</th>\n",
              "    </tr>\n",
              "  </thead>\n",
              "  <tbody>\n",
              "    <tr>\n",
              "      <th>0</th>\n",
              "      <td>0.128144</td>\n",
              "      <td>NaN</td>\n",
              "      <td>NaN</td>\n",
              "      <td>NaN</td>\n",
              "      <td>NaN</td>\n",
              "      <td>NaN</td>\n",
              "      <td>NaN</td>\n",
              "      <td>NaN</td>\n",
              "      <td>NaN</td>\n",
              "      <td>NaN</td>\n",
              "    </tr>\n",
              "    <tr>\n",
              "      <th>1</th>\n",
              "      <td>0.159426</td>\n",
              "      <td>NaN</td>\n",
              "      <td>NaN</td>\n",
              "      <td>NaN</td>\n",
              "      <td>NaN</td>\n",
              "      <td>NaN</td>\n",
              "      <td>NaN</td>\n",
              "      <td>NaN</td>\n",
              "      <td>NaN</td>\n",
              "      <td>NaN</td>\n",
              "    </tr>\n",
              "    <tr>\n",
              "      <th>2</th>\n",
              "      <td>0.040470</td>\n",
              "      <td>NaN</td>\n",
              "      <td>NaN</td>\n",
              "      <td>NaN</td>\n",
              "      <td>NaN</td>\n",
              "      <td>NaN</td>\n",
              "      <td>NaN</td>\n",
              "      <td>NaN</td>\n",
              "      <td>NaN</td>\n",
              "      <td>NaN</td>\n",
              "    </tr>\n",
              "    <tr>\n",
              "      <th>3</th>\n",
              "      <td>0.140406</td>\n",
              "      <td>NaN</td>\n",
              "      <td>NaN</td>\n",
              "      <td>NaN</td>\n",
              "      <td>NaN</td>\n",
              "      <td>NaN</td>\n",
              "      <td>NaN</td>\n",
              "      <td>NaN</td>\n",
              "      <td>NaN</td>\n",
              "      <td>NaN</td>\n",
              "    </tr>\n",
              "    <tr>\n",
              "      <th>4</th>\n",
              "      <td>0.148082</td>\n",
              "      <td>NaN</td>\n",
              "      <td>NaN</td>\n",
              "      <td>NaN</td>\n",
              "      <td>NaN</td>\n",
              "      <td>NaN</td>\n",
              "      <td>NaN</td>\n",
              "      <td>NaN</td>\n",
              "      <td>NaN</td>\n",
              "      <td>NaN</td>\n",
              "    </tr>\n",
              "    <tr>\n",
              "      <th>5</th>\n",
              "      <td>0.044819</td>\n",
              "      <td>NaN</td>\n",
              "      <td>NaN</td>\n",
              "      <td>NaN</td>\n",
              "      <td>NaN</td>\n",
              "      <td>NaN</td>\n",
              "      <td>NaN</td>\n",
              "      <td>NaN</td>\n",
              "      <td>NaN</td>\n",
              "      <td>NaN</td>\n",
              "    </tr>\n",
              "    <tr>\n",
              "      <th>6</th>\n",
              "      <td>0.809903</td>\n",
              "      <td>NaN</td>\n",
              "      <td>NaN</td>\n",
              "      <td>NaN</td>\n",
              "      <td>NaN</td>\n",
              "      <td>NaN</td>\n",
              "      <td>NaN</td>\n",
              "      <td>NaN</td>\n",
              "      <td>NaN</td>\n",
              "      <td>NaN</td>\n",
              "    </tr>\n",
              "    <tr>\n",
              "      <th>7</th>\n",
              "      <td>0.852366</td>\n",
              "      <td>NaN</td>\n",
              "      <td>NaN</td>\n",
              "      <td>NaN</td>\n",
              "      <td>NaN</td>\n",
              "      <td>NaN</td>\n",
              "      <td>NaN</td>\n",
              "      <td>NaN</td>\n",
              "      <td>NaN</td>\n",
              "      <td>NaN</td>\n",
              "    </tr>\n",
              "    <tr>\n",
              "      <th>8</th>\n",
              "      <td>0.006040</td>\n",
              "      <td>NaN</td>\n",
              "      <td>NaN</td>\n",
              "      <td>NaN</td>\n",
              "      <td>NaN</td>\n",
              "      <td>NaN</td>\n",
              "      <td>NaN</td>\n",
              "      <td>NaN</td>\n",
              "      <td>NaN</td>\n",
              "      <td>NaN</td>\n",
              "    </tr>\n",
              "    <tr>\n",
              "      <th>9</th>\n",
              "      <td>0.010143</td>\n",
              "      <td>NaN</td>\n",
              "      <td>NaN</td>\n",
              "      <td>NaN</td>\n",
              "      <td>NaN</td>\n",
              "      <td>NaN</td>\n",
              "      <td>NaN</td>\n",
              "      <td>NaN</td>\n",
              "      <td>NaN</td>\n",
              "      <td>NaN</td>\n",
              "    </tr>\n",
              "  </tbody>\n",
              "</table>\n",
              "</div>"
            ],
            "text/plain": [
              "          0   1   2   3   4   5   6   7   8   9\n",
              "0  0.128144 NaN NaN NaN NaN NaN NaN NaN NaN NaN\n",
              "1  0.159426 NaN NaN NaN NaN NaN NaN NaN NaN NaN\n",
              "2  0.040470 NaN NaN NaN NaN NaN NaN NaN NaN NaN\n",
              "3  0.140406 NaN NaN NaN NaN NaN NaN NaN NaN NaN\n",
              "4  0.148082 NaN NaN NaN NaN NaN NaN NaN NaN NaN\n",
              "5  0.044819 NaN NaN NaN NaN NaN NaN NaN NaN NaN\n",
              "6  0.809903 NaN NaN NaN NaN NaN NaN NaN NaN NaN\n",
              "7  0.852366 NaN NaN NaN NaN NaN NaN NaN NaN NaN\n",
              "8  0.006040 NaN NaN NaN NaN NaN NaN NaN NaN NaN\n",
              "9  0.010143 NaN NaN NaN NaN NaN NaN NaN NaN NaN"
            ]
          },
          "metadata": {
            "tags": []
          },
          "execution_count": 113
        }
      ]
    },
    {
      "cell_type": "code",
      "metadata": {
        "id": "zxDtSdXHaUBG",
        "outputId": "bf957622-1f32-4787-f196-be3fa3986778"
      },
      "source": [
        "df.empty"
      ],
      "execution_count": null,
      "outputs": [
        {
          "output_type": "execute_result",
          "data": {
            "text/plain": [
              "False"
            ]
          },
          "metadata": {
            "tags": []
          },
          "execution_count": 116
        }
      ]
    },
    {
      "cell_type": "code",
      "metadata": {
        "id": "w4G6d15yaUBI",
        "outputId": "5b01c444-a3c7-496c-a4df-b1b916e4b03c"
      },
      "source": [
        "a"
      ],
      "execution_count": null,
      "outputs": [
        {
          "output_type": "execute_result",
          "data": {
            "text/plain": [
              "[1, 2, 3, 5, 6, 7]"
            ]
          },
          "metadata": {
            "tags": []
          },
          "execution_count": 117
        }
      ]
    },
    {
      "cell_type": "code",
      "metadata": {
        "id": "uVQbHSsraUBI"
      },
      "source": [
        "a[1] = 4"
      ],
      "execution_count": null,
      "outputs": []
    },
    {
      "cell_type": "code",
      "metadata": {
        "id": "hmPGJ9ouaUBJ",
        "outputId": "5c91cec1-2766-4147-e54b-ee2528b370c3"
      },
      "source": [
        "a= '123'\n",
        "a[3]= 4"
      ],
      "execution_count": null,
      "outputs": [
        {
          "output_type": "error",
          "ename": "TypeError",
          "evalue": "'str' object does not support item assignment",
          "traceback": [
            "\u001b[1;31m---------------------------------------------------------------------------\u001b[0m",
            "\u001b[1;31mTypeError\u001b[0m                                 Traceback (most recent call last)",
            "\u001b[1;32m<ipython-input-120-8d5afbf9a324>\u001b[0m in \u001b[0;36m<module>\u001b[1;34m\u001b[0m\n\u001b[0;32m      1\u001b[0m \u001b[0ma\u001b[0m\u001b[1;33m=\u001b[0m \u001b[1;34m'123'\u001b[0m\u001b[1;33m\u001b[0m\u001b[1;33m\u001b[0m\u001b[0m\n\u001b[1;32m----> 2\u001b[1;33m \u001b[0ma\u001b[0m\u001b[1;33m[\u001b[0m\u001b[1;36m3\u001b[0m\u001b[1;33m]\u001b[0m\u001b[1;33m=\u001b[0m \u001b[1;36m4\u001b[0m\u001b[1;33m\u001b[0m\u001b[1;33m\u001b[0m\u001b[0m\n\u001b[0m",
            "\u001b[1;31mTypeError\u001b[0m: 'str' object does not support item assignment"
          ]
        }
      ]
    },
    {
      "cell_type": "code",
      "metadata": {
        "id": "byOCItEIaUBJ"
      },
      "source": [
        "\n",
        "a = [1,2,3]\n",
        "a.append(4)"
      ],
      "execution_count": null,
      "outputs": []
    },
    {
      "cell_type": "code",
      "metadata": {
        "id": "lbHCj_X8aUBJ"
      },
      "source": [
        "a = ['a','e','i','o','u']"
      ],
      "execution_count": null,
      "outputs": []
    },
    {
      "cell_type": "code",
      "metadata": {
        "id": "v7PTZegXaUBJ",
        "outputId": "b49f03ef-c398-4fd4-acde-d1d10d3dfe76"
      },
      "source": [
        "a[8:]"
      ],
      "execution_count": null,
      "outputs": [
        {
          "output_type": "execute_result",
          "data": {
            "text/plain": [
              "[]"
            ]
          },
          "metadata": {
            "tags": []
          },
          "execution_count": 126
        }
      ]
    },
    {
      "cell_type": "code",
      "metadata": {
        "id": "gz8-NUeIaUBK",
        "outputId": "85d82997-70b0-4f16-f600-b3a0680d6ccd"
      },
      "source": [
        "for i in range(1,10,2):\n",
        "    print(i)"
      ],
      "execution_count": null,
      "outputs": [
        {
          "output_type": "stream",
          "text": [
            "1\n",
            "3\n",
            "5\n",
            "7\n",
            "9\n"
          ],
          "name": "stdout"
        }
      ]
    },
    {
      "cell_type": "code",
      "metadata": {
        "id": "OZzWEFdIaUBK",
        "outputId": "82e51870-a97d-4340-cc47-9604755db309"
      },
      "source": [
        "for i in range(5,0,-1):\n",
        "    print(str(i)*5)"
      ],
      "execution_count": null,
      "outputs": [
        {
          "output_type": "stream",
          "text": [
            "55555\n",
            "44444\n",
            "33333\n",
            "22222\n",
            "11111\n"
          ],
          "name": "stdout"
        }
      ]
    },
    {
      "cell_type": "code",
      "metadata": {
        "id": "9g8jA5KKaUBK",
        "outputId": "42320937-3585-42d2-d94a-afc4eee6c97f"
      },
      "source": [
        "for i in range(11,90,11):\n",
        "    print(i)"
      ],
      "execution_count": null,
      "outputs": [
        {
          "output_type": "stream",
          "text": [
            "11\n",
            "22\n",
            "33\n",
            "44\n",
            "55\n",
            "66\n",
            "77\n",
            "88\n"
          ],
          "name": "stdout"
        }
      ]
    },
    {
      "cell_type": "code",
      "metadata": {
        "id": "px5RwNh6aUBL"
      },
      "source": [
        "a = range(11,90,11)"
      ],
      "execution_count": null,
      "outputs": []
    },
    {
      "cell_type": "code",
      "metadata": {
        "id": "t8PEFwJnaUBL",
        "outputId": "42de2903-e9ac-46f8-9b6e-bde865f7f90b"
      },
      "source": [
        "a"
      ],
      "execution_count": null,
      "outputs": [
        {
          "output_type": "execute_result",
          "data": {
            "text/plain": [
              "range(11, 90, 11)"
            ]
          },
          "metadata": {
            "tags": []
          },
          "execution_count": 138
        }
      ]
    },
    {
      "cell_type": "code",
      "metadata": {
        "id": "8SQnibbEaUBL",
        "outputId": "0b8e984d-aef2-4557-acb2-e17640d9d6aa"
      },
      "source": [
        "x = 0\n",
        "for i in range(2,10,2):\n",
        "    x = x+i\n",
        "print(x )"
      ],
      "execution_count": null,
      "outputs": [
        {
          "output_type": "stream",
          "text": [
            "20\n"
          ],
          "name": "stdout"
        }
      ]
    },
    {
      "cell_type": "code",
      "metadata": {
        "id": "CCdoUzTkaUBL",
        "outputId": "7cc41422-c9c6-4e06-c9ea-81f11c9b1af8"
      },
      "source": [
        "df"
      ],
      "execution_count": null,
      "outputs": [
        {
          "output_type": "execute_result",
          "data": {
            "text/html": [
              "<div>\n",
              "<style scoped>\n",
              "    .dataframe tbody tr th:only-of-type {\n",
              "        vertical-align: middle;\n",
              "    }\n",
              "\n",
              "    .dataframe tbody tr th {\n",
              "        vertical-align: top;\n",
              "    }\n",
              "\n",
              "    .dataframe thead th {\n",
              "        text-align: right;\n",
              "    }\n",
              "</style>\n",
              "<table border=\"1\" class=\"dataframe\">\n",
              "  <thead>\n",
              "    <tr style=\"text-align: right;\">\n",
              "      <th></th>\n",
              "      <th>product</th>\n",
              "      <th>sales</th>\n",
              "    </tr>\n",
              "  </thead>\n",
              "  <tbody>\n",
              "    <tr>\n",
              "      <th>0</th>\n",
              "      <td>aaa</td>\n",
              "      <td>50.0</td>\n",
              "    </tr>\n",
              "    <tr>\n",
              "      <th>1</th>\n",
              "      <td>bbb</td>\n",
              "      <td>45.0</td>\n",
              "    </tr>\n",
              "    <tr>\n",
              "      <th>2</th>\n",
              "      <td>aaa</td>\n",
              "      <td>52.0</td>\n",
              "    </tr>\n",
              "    <tr>\n",
              "      <th>3</th>\n",
              "      <td>bbb</td>\n",
              "      <td>49.0</td>\n",
              "    </tr>\n",
              "  </tbody>\n",
              "</table>\n",
              "</div>"
            ],
            "text/plain": [
              "  product  sales\n",
              "0     aaa   50.0\n",
              "1     bbb   45.0\n",
              "2     aaa   52.0\n",
              "3     bbb   49.0"
            ]
          },
          "metadata": {
            "tags": []
          },
          "execution_count": 140
        }
      ]
    },
    {
      "cell_type": "code",
      "metadata": {
        "id": "RdZ4_zVEaUBM",
        "outputId": "52ee3a3f-1d25-42f3-a97f-be8eff6439e8"
      },
      "source": [
        "import matplotlib.pyplot as plt\n",
        "plt.boxplot(df['sales'])\n",
        "plt.show()"
      ],
      "execution_count": null,
      "outputs": [
        {
          "output_type": "display_data",
          "data": {
            "image/png": "[encoded data removed]",
            "text/plain": [
              "<Figure size 432x288 with 1 Axes>"
            ]
          },
          "metadata": {
            "tags": [],
            "needs_background": "light"
          }
        }
      ]
    },
    {
      "cell_type": "code",
      "metadata": {
        "id": "MywaWHkUaUBM"
      },
      "source": [
        "def fun(x):\n",
        "    x[0] = 5\n",
        "    return x"
      ],
      "execution_count": null,
      "outputs": []
    },
    {
      "cell_type": "code",
      "metadata": {
        "id": "btE4-zrhaUBM",
        "outputId": "f02918b2-b951-446a-fad9-c0619157dec0"
      },
      "source": [
        "g = [10,11,12]\n",
        "print(fun(g),g)"
      ],
      "execution_count": null,
      "outputs": [
        {
          "output_type": "stream",
          "text": [
            "[5, 11, 12] [5, 11, 12]\n"
          ],
          "name": "stdout"
        }
      ]
    },
    {
      "cell_type": "code",
      "metadata": {
        "id": "2Xjxh4_zaUBM",
        "outputId": "21b5fadf-b1ee-4c4d-f12d-42c9f211325e"
      },
      "source": [
        "def funA(a,b):\n",
        "    return a*b\n",
        "\n",
        "def funB(c,d):\n",
        "    return a + b\n",
        "funA(funB(3,4),5)"
      ],
      "execution_count": null,
      "outputs": [
        {
          "output_type": "error",
          "ename": "TypeError",
          "evalue": "unsupported operand type(s) for +: 'range' and 'list'",
          "traceback": [
            "\u001b[1;31m---------------------------------------------------------------------------\u001b[0m",
            "\u001b[1;31mTypeError\u001b[0m                                 Traceback (most recent call last)",
            "\u001b[1;32m<ipython-input-146-2e76d30e9093>\u001b[0m in \u001b[0;36m<module>\u001b[1;34m\u001b[0m\n\u001b[0;32m      3\u001b[0m \u001b[1;32mdef\u001b[0m \u001b[0mfunB\u001b[0m\u001b[1;33m(\u001b[0m\u001b[0mc\u001b[0m\u001b[1;33m,\u001b[0m\u001b[0md\u001b[0m\u001b[1;33m)\u001b[0m\u001b[1;33m:\u001b[0m\u001b[1;33m\u001b[0m\u001b[1;33m\u001b[0m\u001b[0m\n\u001b[0;32m      4\u001b[0m     \u001b[1;32mreturn\u001b[0m \u001b[0ma\u001b[0m\u001b[1;33m+\u001b[0m\u001b[0mb\u001b[0m\u001b[1;33m\u001b[0m\u001b[1;33m\u001b[0m\u001b[0m\n\u001b[1;32m----> 5\u001b[1;33m \u001b[0mfunA\u001b[0m\u001b[1;33m(\u001b[0m\u001b[0mfunB\u001b[0m\u001b[1;33m(\u001b[0m\u001b[1;36m3\u001b[0m\u001b[1;33m,\u001b[0m\u001b[1;36m4\u001b[0m\u001b[1;33m)\u001b[0m\u001b[1;33m,\u001b[0m\u001b[1;36m5\u001b[0m\u001b[1;33m)\u001b[0m\u001b[1;33m\u001b[0m\u001b[1;33m\u001b[0m\u001b[0m\n\u001b[0m",
            "\u001b[1;32m<ipython-input-146-2e76d30e9093>\u001b[0m in \u001b[0;36mfunB\u001b[1;34m(c, d)\u001b[0m\n\u001b[0;32m      2\u001b[0m     \u001b[1;32mreturn\u001b[0m \u001b[0ma\u001b[0m\u001b[1;33m*\u001b[0m\u001b[0mb\u001b[0m\u001b[1;33m\u001b[0m\u001b[1;33m\u001b[0m\u001b[0m\n\u001b[0;32m      3\u001b[0m \u001b[1;32mdef\u001b[0m \u001b[0mfunB\u001b[0m\u001b[1;33m(\u001b[0m\u001b[0mc\u001b[0m\u001b[1;33m,\u001b[0m\u001b[0md\u001b[0m\u001b[1;33m)\u001b[0m\u001b[1;33m:\u001b[0m\u001b[1;33m\u001b[0m\u001b[1;33m\u001b[0m\u001b[0m\n\u001b[1;32m----> 4\u001b[1;33m     \u001b[1;32mreturn\u001b[0m \u001b[0ma\u001b[0m\u001b[1;33m+\u001b[0m\u001b[0mb\u001b[0m\u001b[1;33m\u001b[0m\u001b[1;33m\u001b[0m\u001b[0m\n\u001b[0m\u001b[0;32m      5\u001b[0m \u001b[0mfunA\u001b[0m\u001b[1;33m(\u001b[0m\u001b[0mfunB\u001b[0m\u001b[1;33m(\u001b[0m\u001b[1;36m3\u001b[0m\u001b[1;33m,\u001b[0m\u001b[1;36m4\u001b[0m\u001b[1;33m)\u001b[0m\u001b[1;33m,\u001b[0m\u001b[1;36m5\u001b[0m\u001b[1;33m)\u001b[0m\u001b[1;33m\u001b[0m\u001b[1;33m\u001b[0m\u001b[0m\n",
            "\u001b[1;31mTypeError\u001b[0m: unsupported operand type(s) for +: 'range' and 'list'"
          ]
        }
      ]
    },
    {
      "cell_type": "code",
      "metadata": {
        "id": "HXGPYJ2caUBN",
        "outputId": "e0f368ba-db10-484b-cb9f-89a9bca159bd"
      },
      "source": [
        "\"hello work\".upper()"
      ],
      "execution_count": null,
      "outputs": [
        {
          "output_type": "execute_result",
          "data": {
            "text/plain": [
              "'HELLO WORK'"
            ]
          },
          "metadata": {
            "tags": []
          },
          "execution_count": 147
        }
      ]
    },
    {
      "cell_type": "code",
      "metadata": {
        "id": "6eYbDc2-aUBN"
      },
      "source": [
        "class Test:\n",
        "    def __init__(self,x):\n",
        "        self.x = x\n",
        "        self.x +=1\n",
        "        \n",
        "t = Test(0)"
      ],
      "execution_count": null,
      "outputs": []
    },
    {
      "cell_type": "code",
      "metadata": {
        "id": "6wQykTElaUBN",
        "outputId": "cc3bbbc5-c354-4315-ff96-6deefccf0bb5"
      },
      "source": [
        "t.x"
      ],
      "execution_count": null,
      "outputs": [
        {
          "output_type": "execute_result",
          "data": {
            "text/plain": [
              "1"
            ]
          },
          "metadata": {
            "tags": []
          },
          "execution_count": 152
        }
      ]
    },
    {
      "cell_type": "code",
      "metadata": {
        "id": "BB9ygFvLaUBN",
        "outputId": "e24edb46-36b7-4d3c-951c-fe70fc8e400a"
      },
      "source": [
        "t.x"
      ],
      "execution_count": null,
      "outputs": [
        {
          "output_type": "execute_result",
          "data": {
            "text/plain": [
              "1"
            ]
          },
          "metadata": {
            "tags": []
          },
          "execution_count": 153
        }
      ]
    },
    {
      "cell_type": "code",
      "metadata": {
        "id": "B-YBUavVaUBO",
        "outputId": "52a3fbb6-8fdd-407b-9797-b5388cdc564c"
      },
      "source": [
        "t.x"
      ],
      "execution_count": null,
      "outputs": [
        {
          "output_type": "execute_result",
          "data": {
            "text/plain": [
              "1"
            ]
          },
          "metadata": {
            "tags": []
          },
          "execution_count": 154
        }
      ]
    },
    {
      "cell_type": "code",
      "metadata": {
        "id": "KRw7hEWxaUBP",
        "outputId": "1aee291e-0b36-4ea6-e616-1ebe75315011"
      },
      "source": [
        "class(float(int(1)/3))"
      ],
      "execution_count": null,
      "outputs": [
        {
          "output_type": "error",
          "ename": "SyntaxError",
          "evalue": "invalid syntax (<ipython-input-159-31c8dac3f403>, line 1)",
          "traceback": [
            "\u001b[1;36m  File \u001b[1;32m\"<ipython-input-159-31c8dac3f403>\"\u001b[1;36m, line \u001b[1;32m1\u001b[0m\n\u001b[1;33m    class(float(int(1)/3))\u001b[0m\n\u001b[1;37m         ^\u001b[0m\n\u001b[1;31mSyntaxError\u001b[0m\u001b[1;31m:\u001b[0m invalid syntax\n"
          ]
        }
      ]
    },
    {
      "cell_type": "code",
      "metadata": {
        "id": "SZUTjSBraUBP",
        "outputId": "1ada2888-f038-4315-d302-089917aeaa4f"
      },
      "source": [
        "def m():\n",
        "    return [lambda x:i*x for i in range(4)]\n",
        "\n",
        "print([a (2) for a in m()])\n"
      ],
      "execution_count": null,
      "outputs": [
        {
          "output_type": "stream",
          "text": [
            "[6, 6, 6, 6]\n"
          ],
          "name": "stdout"
        }
      ]
    },
    {
      "cell_type": "code",
      "metadata": {
        "id": "4lJZSUqFaUBQ"
      },
      "source": [
        "import random\n",
        "x = random.randint(1,6)\n",
        "y =  random.randint(1,6)\n",
        "z= random.randint(1,6)"
      ],
      "execution_count": null,
      "outputs": []
    },
    {
      "cell_type": "code",
      "metadata": {
        "id": "Qr9Xe6jMaUBR",
        "outputId": "34d6f60f-c66e-491e-8397-eae04d1c8d37"
      },
      "source": [
        "x+y+z"
      ],
      "execution_count": null,
      "outputs": [
        {
          "output_type": "execute_result",
          "data": {
            "text/plain": [
              "4"
            ]
          },
          "metadata": {
            "tags": []
          },
          "execution_count": 164
        }
      ]
    },
    {
      "cell_type": "code",
      "metadata": {
        "id": "7PMwY9RXaUBR",
        "outputId": "3b26f67d-3ce0-4bd0-ace6-8dce7f18d7c3"
      },
      "source": [
        "np.isnan(np.nan)"
      ],
      "execution_count": null,
      "outputs": [
        {
          "output_type": "execute_result",
          "data": {
            "text/plain": [
              "True"
            ]
          },
          "metadata": {
            "tags": []
          },
          "execution_count": 168
        }
      ]
    },
    {
      "cell_type": "code",
      "metadata": {
        "id": "1cZro2XyaUBR",
        "outputId": "3dca68ee-931b-4b1e-db28-aa56aa71d90d"
      },
      "source": [
        "import pandas as pd\n",
        "import seaborn as sns\n",
        "import numpy as np\n",
        "import matplotlib.pyplot as plt\n",
        "\n",
        "data = {'y_Actual':    [1, 2, 0, 1, 2, 1, 0, 0, 1, 0, 1, 0],\n",
        "        'y_Predicted': [1, 1, 0, 1, 0, 1, 2, 0, 2, 0, 1, 0]\n",
        "        }\n",
        "\n",
        "df = pd.DataFrame(data, columns=['y_Actual','y_Predicted'])\n",
        "print (df)"
      ],
      "execution_count": null,
      "outputs": [
        {
          "output_type": "stream",
          "text": [
            "    y_Actual  y_Predicted\n",
            "0          1            1\n",
            "1          2            1\n",
            "2          0            0\n",
            "3          1            1\n",
            "4          2            0\n",
            "5          1            1\n",
            "6          0            2\n",
            "7          0            0\n",
            "8          1            2\n",
            "9          0            0\n",
            "10         1            1\n",
            "11         0            0\n"
          ],
          "name": "stdout"
        }
      ]
    },
    {
      "cell_type": "code",
      "metadata": {
        "id": "G4-iyYJKaUBS",
        "outputId": "b44fe9be-f3ac-4742-b846-63eb64674455"
      },
      "source": [
        "confusionmatrix = pd.crosstab(df['y_Actual'], df['y_Predicted'], rownames=['Actual'], colnames=['Predicted'])\n",
        "\n",
        "confusionmatrix"
      ],
      "execution_count": null,
      "outputs": [
        {
          "output_type": "execute_result",
          "data": {
            "text/html": [
              "<div>\n",
              "<style scoped>\n",
              "    .dataframe tbody tr th:only-of-type {\n",
              "        vertical-align: middle;\n",
              "    }\n",
              "\n",
              "    .dataframe tbody tr th {\n",
              "        vertical-align: top;\n",
              "    }\n",
              "\n",
              "    .dataframe thead th {\n",
              "        text-align: right;\n",
              "    }\n",
              "</style>\n",
              "<table border=\"1\" class=\"dataframe\">\n",
              "  <thead>\n",
              "    <tr style=\"text-align: right;\">\n",
              "      <th>Predicted</th>\n",
              "      <th>0</th>\n",
              "      <th>1</th>\n",
              "      <th>2</th>\n",
              "    </tr>\n",
              "    <tr>\n",
              "      <th>Actual</th>\n",
              "      <th></th>\n",
              "      <th></th>\n",
              "      <th></th>\n",
              "    </tr>\n",
              "  </thead>\n",
              "  <tbody>\n",
              "    <tr>\n",
              "      <th>0</th>\n",
              "      <td>4</td>\n",
              "      <td>0</td>\n",
              "      <td>1</td>\n",
              "    </tr>\n",
              "    <tr>\n",
              "      <th>1</th>\n",
              "      <td>0</td>\n",
              "      <td>4</td>\n",
              "      <td>1</td>\n",
              "    </tr>\n",
              "    <tr>\n",
              "      <th>2</th>\n",
              "      <td>1</td>\n",
              "      <td>1</td>\n",
              "      <td>0</td>\n",
              "    </tr>\n",
              "  </tbody>\n",
              "</table>\n",
              "</div>"
            ],
            "text/plain": [
              "Predicted  0  1  2\n",
              "Actual            \n",
              "0          4  0  1\n",
              "1          0  4  1\n",
              "2          1  1  0"
            ]
          },
          "metadata": {
            "tags": []
          },
          "execution_count": 26
        }
      ]
    },
    {
      "cell_type": "code",
      "metadata": {
        "id": "sXl8UR7VaUBS",
        "outputId": "55cbe7f3-6f38-4470-cb01-1b999b3c8978"
      },
      "source": [
        "from sklearn.metrics import confusion_matrix\n",
        "cf_matrix = confusion_matrix(df[\"y_Actual\"], df[\"y_Predicted\"])\n",
        "cf_matrix"
      ],
      "execution_count": null,
      "outputs": [
        {
          "output_type": "execute_result",
          "data": {
            "text/plain": [
              "array([[4, 0, 1],\n",
              "       [0, 4, 1],\n",
              "       [1, 1, 0]], dtype=int64)"
            ]
          },
          "metadata": {
            "tags": []
          },
          "execution_count": 27
        }
      ]
    },
    {
      "cell_type": "code",
      "metadata": {
        "id": "s-E6G1eNaUBS",
        "outputId": "b5feb2fb-446d-450d-d2cc-7ce93e7f9e12"
      },
      "source": [
        "# %matplotlib.inline\n",
        "sns.heatmap(cf_matrix, annot=True)\n"
      ],
      "execution_count": null,
      "outputs": [
        {
          "output_type": "execute_result",
          "data": {
            "text/plain": [
              "<matplotlib.axes._subplots.AxesSubplot at 0x28189cf6860>"
            ]
          },
          "metadata": {
            "tags": []
          },
          "execution_count": 28
        },
        {
          "output_type": "display_data",
          "data": {
            "image/png": "[encoded data removed]",
            "text/plain": [
              "<Figure size 432x288 with 2 Axes>"
            ]
          },
          "metadata": {
            "tags": [],
            "needs_background": "light"
          }
        }
      ]
    },
    {
      "cell_type": "code",
      "metadata": {
        "id": "sH5I-uPIaUBT",
        "outputId": "f4788b8e-0ea4-413b-ff05-d9fe381026af"
      },
      "source": [
        "sns.heatmap(cf_matrix/np.sum(cf_matrix), annot=True, \n",
        "            fmt='.2%', cmap='Blues')"
      ],
      "execution_count": null,
      "outputs": [
        {
          "output_type": "execute_result",
          "data": {
            "text/plain": [
              "<matplotlib.axes._subplots.AxesSubplot at 0x28189d9e2b0>"
            ]
          },
          "metadata": {
            "tags": []
          },
          "execution_count": 29
        },
        {
          "output_type": "display_data",
          "data": {
            "image/png": "[encoded data removed]",
            "text/plain": [
              "<Figure size 432x288 with 2 Axes>"
            ]
          },
          "metadata": {
            "tags": [],
            "needs_background": "light"
          }
        }
      ]
    },
    {
      "cell_type": "code",
      "metadata": {
        "colab": {
          "base_uri": "https://localhost:8080/"
        },
        "id": "_aS1z5QSaUBT",
        "outputId": "326b25bf-54db-4822-b11c-26318e93092d"
      },
      "source": [
        "print('Changes')"
      ],
      "execution_count": 1,
      "outputs": [
        {
          "output_type": "stream",
          "text": [
            "Change\n"
          ],
          "name": "stdout"
        }
      ]
    },
    {
      "cell_type": "code",
      "metadata": {
        "id": "Qmy9Yyn1aUBT"
      },
      "source": [
        ""
      ],
      "execution_count": null,
      "outputs": []
    }
  ]
}